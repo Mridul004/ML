{
 "cells": [
  {
   "cell_type": "code",
   "execution_count": 124,
   "id": "f1001f07",
   "metadata": {},
   "outputs": [],
   "source": [
    "import numpy as np"
   ]
  },
  {
   "cell_type": "code",
   "execution_count": 125,
   "id": "f2f1af1c",
   "metadata": {},
   "outputs": [],
   "source": [
    "data=np.loadtxt(\"data.csv\",delimiter=\",\")"
   ]
  },
  {
   "cell_type": "code",
   "execution_count": 126,
   "id": "8ff56ef4",
   "metadata": {},
   "outputs": [
    {
     "data": {
      "text/plain": [
       "(100, 2)"
      ]
     },
     "execution_count": 126,
     "metadata": {},
     "output_type": "execute_result"
    }
   ],
   "source": [
    "data.shape"
   ]
  },
  {
   "cell_type": "code",
   "execution_count": 127,
   "id": "5415f0ba",
   "metadata": {},
   "outputs": [],
   "source": [
    "x=data[:,0]\n",
    "y=data[:,1]"
   ]
  },
  {
   "cell_type": "code",
   "execution_count": 128,
   "id": "2370c09f",
   "metadata": {},
   "outputs": [
    {
     "data": {
      "text/plain": [
       "(100,)"
      ]
     },
     "execution_count": 128,
     "metadata": {},
     "output_type": "execute_result"
    }
   ],
   "source": [
    "x.shape"
   ]
  },
  {
   "cell_type": "code",
   "execution_count": 129,
   "id": "8c67383c",
   "metadata": {},
   "outputs": [],
   "source": [
    "from sklearn import model_selection\n",
    "x_train,x_test,y_train,y_test=model_selection.train_test_split(x,y,test_size=0.3)"
   ]
  },
  {
   "cell_type": "code",
   "execution_count": 130,
   "id": "cce5628f",
   "metadata": {},
   "outputs": [],
   "source": [
    "def fit(X_train,Y_train):\n",
    "    num=(X_train*Y_train).mean() - X_train.mean()*Y_train.mean()\n",
    "    den=(X_train**2).mean() - X_train.mean()**2\n",
    "    m=num/den\n",
    "    c=Y_train.mean() - m*X_train.mean()\n",
    "    return m,c"
   ]
  },
  {
   "cell_type": "code",
   "execution_count": 131,
   "id": "d2c8b1f1",
   "metadata": {},
   "outputs": [],
   "source": [
    "def predict(x,m,c):\n",
    "    return m*x+c\n",
    "\n",
    "def score(y_truth,y_predict):\n",
    "    u=((y_truth - y_predict)**2).sum()\n",
    "    v=((y_truth - y_truth.mean())**2).sum()\n",
    "    return (1 - (u/v))\n",
    "\n",
    "def cost(x,y,m,c):\n",
    "    return ((y-m*x-c)**2).mean()"
   ]
  },
  {
   "cell_type": "code",
   "execution_count": 136,
   "id": "b51c3d90",
   "metadata": {},
   "outputs": [
    {
     "name": "stdout",
     "output_type": "stream",
     "text": [
      "Test Score :  0.6741578285023878\n",
      "Train Score :  0.5586335928373416\n",
      "M,C  1.3191781847907944 7.647671797905616\n",
      "Cost on training data :  118.44847616427651\n"
     ]
    }
   ],
   "source": [
    "m,c=fit(x_train,y_train)\n",
    "#test_data\n",
    "y_test_pred=predict(x_test,m,c)\n",
    "print(\"Test Score : \", score(y_test,y_test_pred))\n",
    "#train_data\n",
    "y_train_pred=predict(x_train,m,c)\n",
    "print(\"Train Score : \" , score(y_train,y_train_pred))\n",
    "print(\"M,C \",m,c)\n",
    "print(\"Cost on training data : \",cost(x_train,y_train,m,c))"
   ]
  },
  {
   "cell_type": "code",
   "execution_count": null,
   "id": "db12e6e8",
   "metadata": {},
   "outputs": [],
   "source": []
  }
 ],
 "metadata": {
  "kernelspec": {
   "display_name": "Python 3 (ipykernel)",
   "language": "python",
   "name": "python3"
  },
  "language_info": {
   "codemirror_mode": {
    "name": "ipython",
    "version": 3
   },
   "file_extension": ".py",
   "mimetype": "text/x-python",
   "name": "python",
   "nbconvert_exporter": "python",
   "pygments_lexer": "ipython3",
   "version": "3.9.13"
  }
 },
 "nbformat": 4,
 "nbformat_minor": 5
}
